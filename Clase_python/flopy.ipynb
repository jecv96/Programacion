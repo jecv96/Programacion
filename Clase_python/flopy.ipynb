{
 "cells": [
  {
   "cell_type": "code",
   "execution_count": 19,
   "id": "6f013a13",
   "metadata": {},
   "outputs": [],
   "source": [
    "# imports\n",
    "\n",
    "import numpy as np\n",
    "import pandas as pd\n",
    "import flopy\n",
    "import flopy.utils.binaryfile as bf\n",
    "import matplotlib.pyplot as plt\n",
    "import matplotlib.dates as mdates\n",
    "import shutil\n",
    "import os"
   ]
  },
  {
   "cell_type": "code",
   "execution_count": 20,
   "id": "13d137e6",
   "metadata": {},
   "outputs": [
    {
     "data": {
      "text/plain": [
       "'3.9.5'"
      ]
     },
     "execution_count": 20,
     "metadata": {},
     "output_type": "execute_result"
    }
   ],
   "source": [
    "flopy.__version__"
   ]
  },
  {
   "cell_type": "markdown",
   "id": "b8a50003",
   "metadata": {},
   "source": [
    "# Nombre del modelo"
   ]
  },
  {
   "cell_type": "code",
   "execution_count": 21,
   "id": "c506ee33",
   "metadata": {},
   "outputs": [],
   "source": [
    "# nombre del modelo y workspace\n",
    "modelname = \"EjemploFlopy\"\n",
    "workspace = \"Model\"\n",
    "mf = flopy.modflow.Modflow(modelname, model_ws = workspace, exe_name = \"bin/mf2005\")"
   ]
  },
  {
   "cell_type": "markdown",
   "id": "12407a35",
   "metadata": {},
   "source": [
    "# Discretizacion"
   ]
  },
  {
   "cell_type": "markdown",
   "id": "3b10f44c",
   "metadata": {},
   "source": [
    "## Espacial"
   ]
  },
  {
   "cell_type": "code",
   "execution_count": 22,
   "id": "0f024703",
   "metadata": {},
   "outputs": [],
   "source": [
    "# Discretizacion espacial del modelo\n",
    "Lx = 2000 # largo en x\n",
    "Ly = 1500 # largo en y\n",
    "ztop = 200 # profundidad de la superficie\n",
    "zbot = -200 # profundidad de la base\n",
    "nlay = 4 # numero de capas\n",
    "nrow = 15 # numero de filas\n",
    "ncol = 20 # numero de columnas\n",
    "delr = Lx/ncol # tamaño de celda en x\n",
    "delc = Ly/nrow # tamaño de celda en y\n",
    "delv = (ztop - zbot)/nlay # tamaño de celda en z\n",
    "botm = np.linspace(ztop, zbot, nlay+1) # "
   ]
  },
  {
   "cell_type": "markdown",
   "id": "416d3523",
   "metadata": {},
   "source": [
    "## Temporal"
   ]
  },
  {
   "cell_type": "code",
   "execution_count": 23,
   "id": "af094df7",
   "metadata": {},
   "outputs": [],
   "source": [
    "# Discretización temporal del modelo\n",
    "nper = 4 # numero de periodos\n",
    "perlen = [10., 5., 5., 10.] # tiempo de cada periodo en dias\n",
    "perlen = [x * 86400 for x in perlen] # tiempo de cada periodo en segundos\n",
    "nstp = [5,2,2,3] # numero de pasos de tiempo en cada periodo\n",
    "steady = False # modelo transitorio\n",
    "itmuni=1 # unidad de tiempo en segundos\n",
    "lenuni=2 # unidad de longitud en metros\n"
   ]
  },
  {
   "cell_type": "markdown",
   "id": "ea919419",
   "metadata": {},
   "source": [
    "## Paquete DIS"
   ]
  },
  {
   "cell_type": "code",
   "execution_count": 24,
   "id": "543a8c84",
   "metadata": {},
   "outputs": [],
   "source": [
    "# genera el paquete DIS\n",
    "dis = flopy.modflow.ModflowDis(mf, nlay, nrow, ncol, delr=delr, delc=delc, top=ztop, botm=botm[1:],\n",
    "                               lenuni=lenuni, itmuni=itmuni, nper=nper, perlen=perlen, nstp=nstp, steady=steady)"
   ]
  },
  {
   "cell_type": "markdown",
   "id": "99ebce0b",
   "metadata": {},
   "source": [
    "## Paquete BAS"
   ]
  },
  {
   "cell_type": "code",
   "execution_count": 25,
   "id": "f6798d2d",
   "metadata": {},
   "outputs": [],
   "source": [
    "# paquete bas con CH\n",
    "ibound = np.ones((nlay, nrow, ncol), dtype=np.int32)\n",
    "ibound[0, :, 0]  = -1 #primera capa, todas las filas, primera columna\n",
    "ibound[0, :, -1] = -1 # primera capa, todas las filas, ultima columna\n",
    "strt = np.ones((nlay, nrow, ncol), dtype=np.float32)\n",
    "strt[0, :, 0]  = 100 # primera capa, todas las filas, primera columna\n",
    "strt[0, :, -1] = 60 # primera capa, todas las filas, ultima columna\n",
    "bas = flopy.modflow.ModflowBas(mf, ibound=ibound, strt=strt)"
   ]
  },
  {
   "cell_type": "markdown",
   "id": "c88c08a6",
   "metadata": {},
   "source": [
    "## Paquete WEL"
   ]
  },
  {
   "cell_type": "code",
   "execution_count": 26,
   "id": "cdf8e465",
   "metadata": {},
   "outputs": [],
   "source": [
    "# crea el sp_data de un pozo para 4 periodos\n",
    "sp_data = {0: [2,3,11,-0.015], 1: [2,3,11,-0.03], 2: [2,3,11,-0.04], 3: [2,3,11,0]} # capa, fila, columna, caudal en m3/s\n",
    "wel = flopy.modflow.ModflowWel(mf, stress_period_data=sp_data)"
   ]
  },
  {
   "cell_type": "markdown",
   "id": "f289802c",
   "metadata": {},
   "source": [
    "## LPF"
   ]
  },
  {
   "cell_type": "code",
   "execution_count": 27,
   "id": "0a675fa2",
   "metadata": {},
   "outputs": [],
   "source": [
    "# definir conductividad hidraulica\n",
    "hk  = 3e-5 # conductividad hidraulica horizontal (m3/s)\n",
    "vka = 1e-5 # conductividad hidraulica vertical (m3/s)\n",
    "lpf = flopy.modflow.ModflowLpf(mf, hk=hk, vka=vka)"
   ]
  },
  {
   "cell_type": "markdown",
   "id": "0c6ed6d4",
   "metadata": {},
   "source": [
    "## OC"
   ]
  },
  {
   "cell_type": "code",
   "execution_count": 28,
   "id": "c6267a4a",
   "metadata": {},
   "outputs": [],
   "source": [
    "# output control\n",
    "stress_period_data = {(0,4):['save head'], (1,1) : ['save head'], (2,1) : ['save head'], (3,2) : ['save head']} # periodo, etapa, head\n",
    "oc = flopy.modflow.ModflowOc(mf, stress_period_data=stress_period_data)\n"
   ]
  },
  {
   "cell_type": "markdown",
   "id": "7a340c8a",
   "metadata": {},
   "source": [
    "## Solver"
   ]
  },
  {
   "cell_type": "code",
   "execution_count": 29,
   "id": "472e56dc",
   "metadata": {},
   "outputs": [],
   "source": [
    "pcg = flopy.modflow.ModflowPcg(mf)"
   ]
  },
  {
   "cell_type": "markdown",
   "id": "2d8c6160",
   "metadata": {},
   "source": [
    "## Ejecucion"
   ]
  },
  {
   "cell_type": "code",
   "execution_count": 30,
   "id": "4de3adbd",
   "metadata": {},
   "outputs": [],
   "source": [
    "# escribir el archivo de entrada\n",
    "mf.write_input()"
   ]
  },
  {
   "cell_type": "markdown",
   "id": "5dbdba66",
   "metadata": {},
   "source": [
    "# RUN"
   ]
  },
  {
   "cell_type": "code",
   "execution_count": 31,
   "id": "7f6939d7",
   "metadata": {},
   "outputs": [
    {
     "name": "stdout",
     "output_type": "stream",
     "text": [
      "FloPy is using the following executable to run the model: ..\\bin\\mf2005.exe\n",
      "\n",
      "                                  MODFLOW-2005     \n",
      "    U.S. GEOLOGICAL SURVEY MODULAR FINITE-DIFFERENCE GROUND-WATER FLOW MODEL\n",
      "                             Version 1.12.00 2/3/2017                        \n",
      "\n",
      " Using NAME file: EjemploFlopy.nam \n",
      " Run start date and time (yyyy/mm/dd hh:mm:ss): 2025/10/04 12:14:01\n",
      "\n",
      " Solving:  Stress period:     1    Time step:     1    Ground-Water Flow Eqn.\n",
      " Solving:  Stress period:     1    Time step:     2    Ground-Water Flow Eqn.\n",
      " Solving:  Stress period:     1    Time step:     3    Ground-Water Flow Eqn.\n",
      " Solving:  Stress period:     1    Time step:     4    Ground-Water Flow Eqn.\n",
      " Solving:  Stress period:     1    Time step:     5    Ground-Water Flow Eqn.\n",
      " Solving:  Stress period:     2    Time step:     1    Ground-Water Flow Eqn.\n",
      " Solving:  Stress period:     2    Time step:     2    Ground-Water Flow Eqn.\n",
      " Solving:  Stress period:     3    Time step:     1    Ground-Water Flow Eqn.\n",
      " Solving:  Stress period:     3    Time step:     2    Ground-Water Flow Eqn.\n",
      " Solving:  Stress period:     4    Time step:     1    Ground-Water Flow Eqn.\n",
      " Solving:  Stress period:     4    Time step:     2    Ground-Water Flow Eqn.\n",
      " Solving:  Stress period:     4    Time step:     3    Ground-Water Flow Eqn.\n",
      " Run end date and time (yyyy/mm/dd hh:mm:ss): 2025/10/04 12:14:01\n",
      " Elapsed run time:  0.057 Seconds\n",
      "\n",
      "  Normal termination of simulation\n"
     ]
    }
   ],
   "source": [
    "success, buff = mf.run_model()"
   ]
  },
  {
   "cell_type": "code",
   "execution_count": null,
   "id": "bf877117",
   "metadata": {},
   "outputs": [
    {
     "data": {
      "text/plain": [
       "'Model\\\\EjemploFlopy.bhd'"
      ]
     },
     "execution_count": 32,
     "metadata": {},
     "output_type": "execute_result"
    }
   ],
   "source": [
    "# convertir hds a bhd para poder importar a modelmuse\n",
    "shutil.copyfile(os.path.join(workspace, modelname+'.hds'), os.path.join(workspace, modelname+'.bhd'))"
   ]
  },
  {
   "cell_type": "markdown",
   "id": "803af52f",
   "metadata": {},
   "source": [
    "## Plots"
   ]
  },
  {
   "cell_type": "markdown",
   "id": "7da8792c",
   "metadata": {},
   "source": [
    "## "
   ]
  },
  {
   "cell_type": "code",
   "execution_count": null,
   "id": "cc5620f6",
   "metadata": {},
   "outputs": [],
   "source": []
  }
 ],
 "metadata": {
  "kernelspec": {
   "display_name": "Python 3",
   "language": "python",
   "name": "python3"
  },
  "language_info": {
   "codemirror_mode": {
    "name": "ipython",
    "version": 3
   },
   "file_extension": ".py",
   "mimetype": "text/x-python",
   "name": "python",
   "nbconvert_exporter": "python",
   "pygments_lexer": "ipython3",
   "version": "3.13.2"
  }
 },
 "nbformat": 4,
 "nbformat_minor": 5
}
