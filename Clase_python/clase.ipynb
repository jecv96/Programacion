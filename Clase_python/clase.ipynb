{
 "cells": [
  {
   "cell_type": "code",
   "execution_count": 30,
   "id": "5fde0bf6",
   "metadata": {},
   "outputs": [],
   "source": [
    "import pandas as pd\n",
    "import numpy as np\n",
    "import matplotlib.pyplot as plt\n",
    "import matplotlib.dates as mdates\n",
    "import os"
   ]
  },
  {
   "cell_type": "code",
   "execution_count": 21,
   "id": "a4cee780",
   "metadata": {},
   "outputs": [],
   "source": [
    "### El objetivo es obtener una planilla con los promedios mensuales de niveles de 20 pozos para una calibracion de un modelo con stress period mensuales.\n",
    "### Se tienen datos piezometricos de los 20 pozos con registros diversos (diarios, horarios, etc) entre 2010 y 2015\n",
    "### Tambien se necesita graficar la evolucion temporal observada"
   ]
  },
  {
   "cell_type": "code",
   "execution_count": 24,
   "id": "ec58ab5e",
   "metadata": {},
   "outputs": [],
   "source": [
    "input_file = \"piezometric_levels.txt\"\n",
    "output_file = \"piezometric_monthly_avgs.txt\"\n",
    "plot_dir = \"piezometer_plots\""
   ]
  },
  {
   "cell_type": "code",
   "execution_count": 47,
   "id": "1af2b96b",
   "metadata": {},
   "outputs": [],
   "source": [
    "def process():\n",
    "    #leer el archivo\n",
    "    df = pd.read_csv(input_file, sep=\",\")\n",
    "\n",
    "    #agrupar por pozo y fecha\n",
    "    df[\"date\"] = pd.to_datetime(df[\"date\"], errors=\"coerce\", infer_datetime_format=True)\n",
    "\n",
    "    #eliminar filas con valores nulos en date o level_m\n",
    "    df = df.dropna(subset=[\"date\", \"level_m\"])\n",
    "\n",
    "    #calcular el promedio mensual por pozo\n",
    "    monthly = (\n",
    "        df.set_index(\"date\") # usa date como indice temporal\n",
    "        .groupby(\"well\") # agrupa por pozo\n",
    "        .resample(\"MS\") # reescala por mes (month start)\n",
    "        .mean(numeric_only=True) #promedio mensual\n",
    "        .reset_index() # convierte el indice como una nueva columna\n",
    "        .pivot(index=\"date\", columns=\"well\", values=\"level_m\") #cambia la forma de la matriz\n",
    "        .sort_index() # ordena el indice temporal\n",
    "    )\n",
    "    #exportar nueva matriz como txt\n",
    "    monthly.to_csv(output_file, index=True)\n",
    "\n",
    "    # crear directorio para guardar los graficos\n",
    "    os.makedirs(plot_dir, exist_ok=True)\n",
    "\n",
    "    #graficar la evolucion temporal de cada pozo como un plot de lineas\n",
    "    for well, g in df.groupby(\"well\"):\n",
    "        g = g.sort_values(\"date\") # ordena por fecha\n",
    "        plt.figure(figsize=(10,4))\n",
    "        plt.plot(g[\"date\"], g[\"level_m\"], linestyle=\"-\")\n",
    "        plt.xlabel(\"Fecha\")\n",
    "        plt.ylabel(\"Nivel observado (m)\")\n",
    "        plt.title(f\"Piezometro {well}: Nivel observado\")\n",
    "        plt.grid(True)\n",
    "\n",
    "        #fijar el rango de eje x\n",
    "        plt.xlim(pd.to_datetime(\"2010-01-01\"), pd.to_datetime(\"2026-01-01\"))\n",
    "        ax=plt.gca()\n",
    "        ax.xaxis.set_major_locator(mdates.YearLocator(2, month=1, day=1))\n",
    "        ax.xaxis.set_major_formatter(mdates.DateFormatter(\"%Y\"))\n",
    "\n",
    "        #fijar el rango de eje y\n",
    "        plt.ylim(300,600)\n",
    "        \n",
    "        plt.tight_layout()\n",
    "        #guardar la figura en el directorio de plots\n",
    "        plt.savefig(os.path.join(plot_dir, f\"{well}.png\"))\n",
    "        plt.close()\n",
    "\n",
    "    return df, monthly\n"
   ]
  },
  {
   "cell_type": "code",
   "execution_count": 48,
   "id": "a9c85cd2",
   "metadata": {},
   "outputs": [
    {
     "name": "stderr",
     "output_type": "stream",
     "text": [
      "C:\\Users\\jvc96\\AppData\\Local\\Temp\\ipykernel_34516\\3193790580.py:6: UserWarning: The argument 'infer_datetime_format' is deprecated and will be removed in a future version. A strict version of it is now the default, see https://pandas.pydata.org/pdeps/0004-consistent-to-datetime-parsing.html. You can safely remove this argument.\n",
      "  df[\"date\"] = pd.to_datetime(df[\"date\"], errors=\"coerce\", infer_datetime_format=True)\n"
     ]
    },
    {
     "data": {
      "text/plain": [
       "(        well       date     level_m\n",
       " 0       PZ01 2010-01-24  420.618874\n",
       " 1       PZ01 2010-01-25  425.001579\n",
       " 2       PZ01 2010-01-26  416.221661\n",
       " 3       PZ01 2010-01-27  416.227741\n",
       " 4       PZ01 2010-01-28  425.300488\n",
       " ...      ...        ...         ...\n",
       " 570093  PZ20 2025-07-08  451.839170\n",
       " 570094  PZ20 2025-07-09  448.323271\n",
       " 570095  PZ20 2025-07-10  453.032426\n",
       " 570096  PZ20 2025-07-11  452.987343\n",
       " 570097  PZ20 2025-07-12  454.470975\n",
       " \n",
       " [33258 rows x 3 columns],\n",
       " well              PZ01  PZ02  PZ03  PZ05  PZ08  PZ10  PZ11  PZ13  PZ14  PZ15  \\\n",
       " date                                                                           \n",
       " 2010-01-01  419.977776   NaN   NaN   NaN   NaN   NaN   NaN   NaN   NaN   NaN   \n",
       " 2010-02-01  415.349616   NaN   NaN   NaN   NaN   NaN   NaN   NaN   NaN   NaN   \n",
       " 2010-03-01  417.497542   NaN   NaN   NaN   NaN   NaN   NaN   NaN   NaN   NaN   \n",
       " 2010-04-01  417.641739   NaN   NaN   NaN   NaN   NaN   NaN   NaN   NaN   NaN   \n",
       " 2010-05-01  418.269827   NaN   NaN   NaN   NaN   NaN   NaN   NaN   NaN   NaN   \n",
       " ...                ...   ...   ...   ...   ...   ...   ...   ...   ...   ...   \n",
       " 2025-03-01         NaN   NaN   NaN   NaN   NaN   NaN   NaN   NaN   NaN   NaN   \n",
       " 2025-04-01         NaN   NaN   NaN   NaN   NaN   NaN   NaN   NaN   NaN   NaN   \n",
       " 2025-05-01         NaN   NaN   NaN   NaN   NaN   NaN   NaN   NaN   NaN   NaN   \n",
       " 2025-06-01         NaN   NaN   NaN   NaN   NaN   NaN   NaN   NaN   NaN   NaN   \n",
       " 2025-07-01         NaN   NaN   NaN   NaN   NaN   NaN   NaN   NaN   NaN   NaN   \n",
       " \n",
       " well        PZ18        PZ20  \n",
       " date                          \n",
       " 2010-01-01   NaN         NaN  \n",
       " 2010-02-01   NaN         NaN  \n",
       " 2010-03-01   NaN         NaN  \n",
       " 2010-04-01   NaN         NaN  \n",
       " 2010-05-01   NaN         NaN  \n",
       " ...          ...         ...  \n",
       " 2025-03-01   NaN  456.513663  \n",
       " 2025-04-01   NaN  455.546810  \n",
       " 2025-05-01   NaN  454.477312  \n",
       " 2025-06-01   NaN  458.100327  \n",
       " 2025-07-01   NaN  455.407442  \n",
       " \n",
       " [187 rows x 12 columns])"
      ]
     },
     "execution_count": 48,
     "metadata": {},
     "output_type": "execute_result"
    }
   ],
   "source": [
    "process()"
   ]
  }
 ],
 "metadata": {
  "kernelspec": {
   "display_name": "Python 3",
   "language": "python",
   "name": "python3"
  },
  "language_info": {
   "codemirror_mode": {
    "name": "ipython",
    "version": 3
   },
   "file_extension": ".py",
   "mimetype": "text/x-python",
   "name": "python",
   "nbconvert_exporter": "python",
   "pygments_lexer": "ipython3",
   "version": "3.13.2"
  }
 },
 "nbformat": 4,
 "nbformat_minor": 5
}
